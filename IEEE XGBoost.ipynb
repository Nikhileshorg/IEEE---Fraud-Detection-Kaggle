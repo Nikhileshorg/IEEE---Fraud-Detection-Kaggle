{
 "cells": [
  {
   "cell_type": "code",
   "execution_count": 2,
   "metadata": {
    "_cell_guid": "b1076dfc-b9ad-4769-8c92-a6c4dae69d19",
    "_uuid": "8f2839f25d086af736a60e9eeb907d3b93b6e0e5"
   },
   "outputs": [],
   "source": [
    "import numpy as np \n",
    "import pandas as pd \n",
    "from sklearn import preprocessing\n",
    "import xgboost as xgb"
   ]
  },
  {
   "cell_type": "code",
   "execution_count": 1,
   "metadata": {},
   "outputs": [
    {
     "ename": "NameError",
     "evalue": "name 'pd' is not defined",
     "output_type": "error",
     "traceback": [
      "\u001b[1;31m---------------------------------------------------------------------------\u001b[0m",
      "\u001b[1;31mNameError\u001b[0m                                 Traceback (most recent call last)",
      "\u001b[1;32m<ipython-input-1-9d574dbbcf92>\u001b[0m in \u001b[0;36m<module>\u001b[1;34m\u001b[0m\n\u001b[1;32m----> 1\u001b[1;33m \u001b[0mtrain_transaction\u001b[0m \u001b[1;33m=\u001b[0m \u001b[0mpd\u001b[0m\u001b[1;33m.\u001b[0m\u001b[0mread_csv\u001b[0m\u001b[1;33m(\u001b[0m\u001b[1;34m'E:\\\\Projects folder\\\\ieee-fraud-detection\\\\train_transaction.csv'\u001b[0m\u001b[1;33m,\u001b[0m \u001b[0mindex_col\u001b[0m\u001b[1;33m=\u001b[0m\u001b[1;34m'TransactionID'\u001b[0m\u001b[1;33m)\u001b[0m\u001b[1;33m\u001b[0m\u001b[1;33m\u001b[0m\u001b[0m\n\u001b[0m\u001b[0;32m      2\u001b[0m \u001b[0mtest_transaction\u001b[0m \u001b[1;33m=\u001b[0m \u001b[0mpd\u001b[0m\u001b[1;33m.\u001b[0m\u001b[0mread_csv\u001b[0m\u001b[1;33m(\u001b[0m\u001b[1;34m'E:\\\\Projects folder\\\\ieee-fraud-detection\\\\test_transaction.csv'\u001b[0m\u001b[1;33m,\u001b[0m \u001b[0mindex_col\u001b[0m\u001b[1;33m=\u001b[0m\u001b[1;34m'TransactionID'\u001b[0m\u001b[1;33m)\u001b[0m\u001b[1;33m\u001b[0m\u001b[1;33m\u001b[0m\u001b[0m\n\u001b[0;32m      3\u001b[0m \u001b[0mtrain_identity\u001b[0m \u001b[1;33m=\u001b[0m \u001b[0mpd\u001b[0m\u001b[1;33m.\u001b[0m\u001b[0mread_csv\u001b[0m\u001b[1;33m(\u001b[0m\u001b[1;34m'E:\\\\Projects folder\\\\ieee-fraud-detection\\\\train_identity.csv'\u001b[0m\u001b[1;33m,\u001b[0m \u001b[0mindex_col\u001b[0m\u001b[1;33m=\u001b[0m\u001b[1;34m'TransactionID'\u001b[0m\u001b[1;33m)\u001b[0m\u001b[1;33m\u001b[0m\u001b[1;33m\u001b[0m\u001b[0m\n\u001b[0;32m      4\u001b[0m \u001b[0mtest_identity\u001b[0m \u001b[1;33m=\u001b[0m \u001b[0mpd\u001b[0m\u001b[1;33m.\u001b[0m\u001b[0mread_csv\u001b[0m\u001b[1;33m(\u001b[0m\u001b[1;34m'E:\\\\Projects folder\\\\ieee-fraud-detection\\\\test_identity.csv'\u001b[0m\u001b[1;33m,\u001b[0m \u001b[0mindex_col\u001b[0m\u001b[1;33m=\u001b[0m\u001b[1;34m'TransactionID'\u001b[0m\u001b[1;33m)\u001b[0m\u001b[1;33m\u001b[0m\u001b[1;33m\u001b[0m\u001b[0m\n\u001b[0;32m      5\u001b[0m \u001b[1;33m\u001b[0m\u001b[0m\n",
      "\u001b[1;31mNameError\u001b[0m: name 'pd' is not defined"
     ]
    }
   ],
   "source": [
    "train_transaction = pd.read_csv('E:\\\\Projects folder\\\\ieee-fraud-detection\\\\train_transaction.csv', index_col='TransactionID')\n",
    "test_transaction = pd.read_csv('E:\\\\Projects folder\\\\ieee-fraud-detection\\\\test_transaction.csv', index_col='TransactionID')\n",
    "train_identity = pd.read_csv('E:\\\\Projects folder\\\\ieee-fraud-detection\\\\train_identity.csv', index_col='TransactionID')\n",
    "test_identity = pd.read_csv('E:\\\\Projects folder\\\\ieee-fraud-detection\\\\test_identity.csv', index_col='TransactionID')\n",
    "\n",
    "sample_submission = pd.read_csv('E:\\\\Projects folder\\\\ieee-fraud-detection\\\\sample_submission.csv', index_col='TransactionID')"
   ]
  },
  {
   "cell_type": "code",
   "execution_count": 5,
   "metadata": {},
   "outputs": [
    {
     "name": "stdout",
     "output_type": "stream",
     "text": [
      "(590540, 433)\n",
      "(506691, 432)\n"
     ]
    }
   ],
   "source": [
    "train = train_transaction.merge(train_identity, how='left', left_index=True, right_index=True)\n",
    "test = test_transaction.merge(test_identity, how='left', left_index=True, right_index=True)\n",
    "print(train.shape)\n",
    "print(test.shape)"
   ]
  },
  {
   "cell_type": "code",
   "execution_count": 8,
   "metadata": {},
   "outputs": [
    {
     "name": "stdout",
     "output_type": "stream",
     "text": [
      "<class 'pandas.core.frame.DataFrame'>\n",
      "Int64Index: 590540 entries, 2987000 to 3577539\n",
      "Columns: 433 entries, isFraud to DeviceInfo\n",
      "dtypes: float64(399), int64(3), object(31)\n",
      "memory usage: 1.9+ GB\n",
      "<class 'pandas.core.frame.DataFrame'>\n",
      "Int64Index: 506691 entries, 3663549 to 4170239\n",
      "Columns: 432 entries, TransactionDT to DeviceInfo\n",
      "dtypes: float64(399), int64(2), object(31)\n",
      "memory usage: 1.7+ GB\n"
     ]
    }
   ],
   "source": [
    "train.info()\n",
    "test.info()"
   ]
  },
  {
   "cell_type": "code",
   "execution_count": 9,
   "metadata": {},
   "outputs": [
    {
     "data": {
      "text/plain": [
       "isFraud           False\n",
       "TransactionDT     False\n",
       "TransactionAmt    False\n",
       "ProductCD         False\n",
       "card1             False\n",
       "card2              True\n",
       "card3              True\n",
       "card4              True\n",
       "card5              True\n",
       "card6              True\n",
       "addr1              True\n",
       "addr2              True\n",
       "dist1              True\n",
       "dist2              True\n",
       "P_emaildomain      True\n",
       "R_emaildomain      True\n",
       "C1                False\n",
       "C2                False\n",
       "C3                False\n",
       "C4                False\n",
       "C5                False\n",
       "C6                False\n",
       "C7                False\n",
       "C8                False\n",
       "C9                False\n",
       "C10               False\n",
       "C11               False\n",
       "C12               False\n",
       "C13               False\n",
       "C14               False\n",
       "                  ...  \n",
       "id_11              True\n",
       "id_12              True\n",
       "id_13              True\n",
       "id_14              True\n",
       "id_15              True\n",
       "id_16              True\n",
       "id_17              True\n",
       "id_18              True\n",
       "id_19              True\n",
       "id_20              True\n",
       "id_21              True\n",
       "id_22              True\n",
       "id_23              True\n",
       "id_24              True\n",
       "id_25              True\n",
       "id_26              True\n",
       "id_27              True\n",
       "id_28              True\n",
       "id_29              True\n",
       "id_30              True\n",
       "id_31              True\n",
       "id_32              True\n",
       "id_33              True\n",
       "id_34              True\n",
       "id_35              True\n",
       "id_36              True\n",
       "id_37              True\n",
       "id_38              True\n",
       "DeviceType         True\n",
       "DeviceInfo         True\n",
       "Length: 433, dtype: bool"
      ]
     },
     "execution_count": 9,
     "metadata": {},
     "output_type": "execute_result"
    }
   ],
   "source": [
    "pd.isnull(train).any()"
   ]
  },
  {
   "cell_type": "code",
   "execution_count": 10,
   "metadata": {},
   "outputs": [],
   "source": [
    "y_train = train['isFraud'].copy()\n",
    "X_train = train.drop('isFraud', axis=1)\n",
    "X_test = test.copy()\n",
    "X_train = X_train.fillna(-999)\n",
    "X_test = X_test.fillna(-999)"
   ]
  },
  {
   "cell_type": "code",
   "execution_count": 11,
   "metadata": {},
   "outputs": [
    {
     "data": {
      "text/plain": [
       "TransactionDT     False\n",
       "TransactionAmt    False\n",
       "ProductCD         False\n",
       "card1             False\n",
       "card2             False\n",
       "card3             False\n",
       "card4             False\n",
       "card5             False\n",
       "card6             False\n",
       "addr1             False\n",
       "addr2             False\n",
       "dist1             False\n",
       "dist2             False\n",
       "P_emaildomain     False\n",
       "R_emaildomain     False\n",
       "C1                False\n",
       "C2                False\n",
       "C3                False\n",
       "C4                False\n",
       "C5                False\n",
       "C6                False\n",
       "C7                False\n",
       "C8                False\n",
       "C9                False\n",
       "C10               False\n",
       "C11               False\n",
       "C12               False\n",
       "C13               False\n",
       "C14               False\n",
       "D1                False\n",
       "                  ...  \n",
       "id_11             False\n",
       "id_12             False\n",
       "id_13             False\n",
       "id_14             False\n",
       "id_15             False\n",
       "id_16             False\n",
       "id_17             False\n",
       "id_18             False\n",
       "id_19             False\n",
       "id_20             False\n",
       "id_21             False\n",
       "id_22             False\n",
       "id_23             False\n",
       "id_24             False\n",
       "id_25             False\n",
       "id_26             False\n",
       "id_27             False\n",
       "id_28             False\n",
       "id_29             False\n",
       "id_30             False\n",
       "id_31             False\n",
       "id_32             False\n",
       "id_33             False\n",
       "id_34             False\n",
       "id_35             False\n",
       "id_36             False\n",
       "id_37             False\n",
       "id_38             False\n",
       "DeviceType        False\n",
       "DeviceInfo        False\n",
       "Length: 432, dtype: bool"
      ]
     },
     "execution_count": 11,
     "metadata": {},
     "output_type": "execute_result"
    }
   ],
   "source": [
    "pd.isnull(X_train).any()"
   ]
  },
  {
   "cell_type": "code",
   "execution_count": 12,
   "metadata": {},
   "outputs": [],
   "source": [
    "del train, test, train_transaction, train_identity, test_transaction, test_identity"
   ]
  },
  {
   "cell_type": "code",
   "execution_count": 13,
   "metadata": {},
   "outputs": [],
   "source": [
    "for f in X_train.columns:\n",
    "    if X_train[f].dtype=='object' or X_test[f].dtype=='object': \n",
    "        lbl = preprocessing.LabelEncoder()\n",
    "        lbl.fit(list(X_train[f].values) + list(X_test[f].values))\n",
    "        X_train[f] = lbl.transform(list(X_train[f].values))\n",
    "        X_test[f] = lbl.transform(list(X_test[f].values))   "
   ]
  },
  {
   "cell_type": "code",
   "execution_count": 14,
   "metadata": {},
   "outputs": [
    {
     "data": {
      "text/plain": [
       "XGBClassifier(base_score=0.5, booster='gbtree', colsample_bylevel=1,\n",
       "       colsample_bynode=1, colsample_bytree=0.9, gamma=0,\n",
       "       learning_rate=0.05, max_delta_step=0, max_depth=9,\n",
       "       min_child_weight=1, missing=-999, n_estimators=500, n_jobs=4,\n",
       "       nthread=None, objective='binary:logistic', random_state=0,\n",
       "       reg_alpha=0, reg_lambda=1, scale_pos_weight=1, seed=None,\n",
       "       silent=None, subsample=0.9, verbosity=1)"
      ]
     },
     "execution_count": 14,
     "metadata": {},
     "output_type": "execute_result"
    }
   ],
   "source": [
    "clf = xgb.XGBClassifier(n_estimators=500,\n",
    "                        n_jobs=4,\n",
    "                        max_depth=9,\n",
    "                        learning_rate=0.05,\n",
    "                        subsample=0.9,\n",
    "                        colsample_bytree=0.9,\n",
    "                        missing=-999)\n",
    "\n",
    "clf.fit(X_train, y_train)"
   ]
  },
  {
   "cell_type": "code",
   "execution_count": 1,
   "metadata": {},
   "outputs": [
    {
     "ename": "NameError",
     "evalue": "name 'clf' is not defined",
     "output_type": "error",
     "traceback": [
      "\u001b[1;31m---------------------------------------------------------------------------\u001b[0m",
      "\u001b[1;31mNameError\u001b[0m                                 Traceback (most recent call last)",
      "\u001b[1;32m<ipython-input-1-7c9c15850749>\u001b[0m in \u001b[0;36m<module>\u001b[1;34m\u001b[0m\n\u001b[1;32m----> 1\u001b[1;33m \u001b[0msample_submission\u001b[0m\u001b[1;33m[\u001b[0m\u001b[1;34m'isFraud'\u001b[0m\u001b[1;33m]\u001b[0m \u001b[1;33m=\u001b[0m \u001b[0mclf\u001b[0m\u001b[1;33m.\u001b[0m\u001b[0mpredict_proba\u001b[0m\u001b[1;33m(\u001b[0m\u001b[0mX_test\u001b[0m\u001b[1;33m)\u001b[0m\u001b[1;33m[\u001b[0m\u001b[1;33m:\u001b[0m\u001b[1;33m,\u001b[0m\u001b[1;36m1\u001b[0m\u001b[1;33m]\u001b[0m\u001b[1;33m\u001b[0m\u001b[1;33m\u001b[0m\u001b[0m\n\u001b[0m\u001b[0;32m      2\u001b[0m \u001b[0msample_submission\u001b[0m\u001b[1;33m.\u001b[0m\u001b[0mto_csv\u001b[0m\u001b[1;33m(\u001b[0m\u001b[1;34m'E:\\\\Projects folder\\\\ieee-fraud-detection\\\\simple_xgboost.csv'\u001b[0m\u001b[1;33m)\u001b[0m\u001b[1;33m\u001b[0m\u001b[1;33m\u001b[0m\u001b[0m\n",
      "\u001b[1;31mNameError\u001b[0m: name 'clf' is not defined"
     ]
    }
   ],
   "source": [
    "sample_submission['isFraud'] = clf.predict_proba(X_test)[:,1]\n",
    "sample_submission.to_csv('E:\\\\Projects folder\\\\ieee-fraud-detection\\\\simple_xgboost.csv')"
   ]
  }
 ],
 "metadata": {
  "kernelspec": {
   "display_name": "Python 3",
   "language": "python",
   "name": "python3"
  },
  "language_info": {
   "codemirror_mode": {
    "name": "ipython",
    "version": 3
   },
   "file_extension": ".py",
   "mimetype": "text/x-python",
   "name": "python",
   "nbconvert_exporter": "python",
   "pygments_lexer": "ipython3",
   "version": "3.7.3"
  }
 },
 "nbformat": 4,
 "nbformat_minor": 1
}
